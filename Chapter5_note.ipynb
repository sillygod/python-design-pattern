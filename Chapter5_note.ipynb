{
 "cells": [
  {
   "cell_type": "markdown",
   "metadata": {},
   "source": [
    "# Chapter5 The Proxy Pattern\n",
    "\n",
    "**Proxy Pattern**也是一種Structural Pattern，從字面上看起來就是代理者的意思，將真正的互動物件隱藏在背後，由隔離的interface來進行溝通，可能從字面上看會覺得跟facade做的事情有點像，其實我也這麼覺得，但是proxy pattern，他比較偏向是保持著原real object的特性，做出一個代理者，一般而言原來的real object可能由於創造資源很肥，但是代理者相對比較輕量的，所以大量創造代理者，服務各地的人。\n",
    "\n",
    "上面這是我的一種想法，"
   ]
  }
 ],
 "metadata": {
  "kernelspec": {
   "display_name": "Python 3",
   "language": "python",
   "name": "python3"
  },
  "language_info": {
   "codemirror_mode": {
    "name": "ipython",
    "version": 3
   },
   "file_extension": ".py",
   "mimetype": "text/x-python",
   "name": "python",
   "nbconvert_exporter": "python",
   "pygments_lexer": "ipython3",
   "version": "3.6.4"
  }
 },
 "nbformat": 4,
 "nbformat_minor": 2
}
