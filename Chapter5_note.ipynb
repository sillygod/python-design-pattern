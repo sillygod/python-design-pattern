{
 "cells": [
  {
   "cell_type": "markdown",
   "metadata": {},
   "source": [
    "# Chapter5 The Proxy Pattern\n",
    "\n",
    "**Proxy Pattern**也是一種Structural Pattern，從字面上看起來就是代理者的意思，將真正的互動物件隱藏在背後，由隔離的interface來進行溝通，可能從字面上看會覺得跟facade做的事情有點像，其實我也這麼覺得，但是proxy pattern，他比較偏向是保持著原real object的特性，做出一個代理者，一般而言原來的real object可能由於創造資源很肥，但是代理者相對比較輕量的，所以大量創造代理者，服務各地的人。\n",
    "\n",
    "上面這是我的一種想法。書中提到根據應用場景proxy pattern又可以細分如下\n",
    "\n",
    " - virtual proxy\n",
    "\n",
    "書中舉例像是，圖庫網站那樣，真的原始圖片，其實是在你點了縮圖(virtual proxy, palceholder)，後才會真正的去做request的動作\n",
    "\n",
    " - remote proxy\n",
    " \n",
    "等於本地有個傳達者(remote proxy），傳達指令到遠端去執行\n",
    " \n",
    " - protective proxy\n",
    " \n",
    "像是authorization service\n",
    "\n",
    " - smart proxy\n",
    " \n",
    "針對於原本物件，產生一個代理者，針對物件存取做了一些額外動作\n",
    "\n",
    "目前讀了讀，其實覺得上面講的都滿像的哈哈哈！ 接著書中舉例 proxy pattern的例子，如下！"
   ]
  },
  {
   "cell_type": "code",
   "execution_count": 2,
   "metadata": {},
   "outputs": [
    {
     "name": "stdout",
     "output_type": "stream",
     "text": [
      "Let's buy something..\n",
      "Bank check if account 1234-322 has enough funds\n",
      "Bank paying the merchant\n",
      "wow\n"
     ]
    }
   ],
   "source": [
    "import abc\n",
    "\n",
    "class You:\n",
    "    \n",
    "    def __init__(self):\n",
    "        print(\"Let's buy something..\")\n",
    "        self.isPerchased = False\n",
    "        self.debitCard = DebitCard()\n",
    "        \n",
    "    def make_payment(self):\n",
    "        self.isPerchased = self.debitCard.do_pay()\n",
    "        \n",
    "    def __del__(self):\n",
    "        if self.isPerchased:\n",
    "            print(\"wow\")\n",
    "        else:\n",
    "            print(\"no...\")\n",
    "\n",
    "# 這裡有DebitCard proxy \n",
    "\n",
    "# Subject\n",
    "class Payment(metaclass=abc.ABCMeta):\n",
    "    \n",
    "    @abc.abstractmethod\n",
    "    def do_pay(self):\n",
    "        raise NotImplementedError\n",
    "        \n",
    "# Real object\n",
    "class Bank(Payment):\n",
    "    \n",
    "    def __init__(self):\n",
    "        self.card = None\n",
    "        self.account = None\n",
    "        \n",
    "    def _getAccount(self):\n",
    "        self.account = self.card\n",
    "        return self.account\n",
    "    \n",
    "    def _hasFunds(self):\n",
    "        print(f'Bank check if account {self._getAccount()} has enough funds')\n",
    "        return True\n",
    "    \n",
    "    def setCard(self, card):\n",
    "        self.card = card\n",
    "        \n",
    "    def do_pay(self):\n",
    "        if self._hasFunds():\n",
    "            print(\"Bank paying the merchant\")\n",
    "            return True\n",
    "        else:\n",
    "            print(\"Bank sorry, not enough funds!\")\n",
    "            return False\n",
    "        \n",
    "    \n",
    "# Proxy \n",
    "class DebitCard(Payment):\n",
    "    \n",
    "    def __init__(self):\n",
    "        self.bank = Bank()\n",
    "        \n",
    "    def do_pay(self):\n",
    "        card = input(\"enter card number:\")\n",
    "        self.bank.setCard(card)\n",
    "        return self.bank.do_pay()\n",
    "\n",
    "\n",
    "                \n",
    "you = You()\n",
    "you.make_payment()\n",
    "\n",
    "del you"
   ]
  },
  {
   "cell_type": "markdown",
   "metadata": {},
   "source": []
  }
 ],
 "metadata": {
  "kernelspec": {
   "display_name": "Python 3",
   "language": "python",
   "name": "python3"
  },
  "language_info": {
   "codemirror_mode": {
    "name": "ipython",
    "version": 3
   },
   "file_extension": ".py",
   "mimetype": "text/x-python",
   "name": "python",
   "nbconvert_exporter": "python",
   "pygments_lexer": "ipython3",
   "version": "3.6.4"
  }
 },
 "nbformat": 4,
 "nbformat_minor": 2
}
