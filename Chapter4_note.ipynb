{
 "cells": [
  {
   "cell_type": "markdown",
   "metadata": {},
   "source": [
    "# 第四章 Facade Pattern\n",
    "\n",
    "跟前面兩章不一樣的是**facade pattern**是屬於**structural pattern**，他的特點是描述objects和classes彼此間如何結合和互動。其中下面舉的幾個pattern都是屬於structural pattern\n",
    "\n",
    " - adapter pattern\n",
    " \n",
    "adapter字面上的意思是萬能插頭之類的，所以大概可以想像這個pattern，就是將interface轉接到另外一個interface(client使用的)\n",
    " \n",
    " - bridge pattern\n",
    " \n",
    "將interface的implement又再做一次抽象化，通常可能會是在處理跨平台的時候會用到手法，不同平台實作內部邏輯不同，因此又做了一層抽象化\n",
    " \n",
    " - decorator pattern\n",
    "\n",
    "動態的將功能附加於物件上，在實作上可能會跟會跟adapter有點像，但是用途不同。\n",
    "\n",
    "不過今天主題是facade pattern，從字面上來看facade指的是建築物的外觀，也有著表面的意思，因此用途是，將複雜的邏輯藏在內部，提供簡單的interface給client端使用，以下簡單的示範。"
   ]
  },
  {
   "cell_type": "code",
   "execution_count": 11,
   "metadata": {},
   "outputs": [
    {
     "name": "stdout",
     "output_type": "stream",
     "text": [
      "I want to make social chat app but there are lots of work to do..\n",
      "ok.. I arrang.\n",
      "--done--\n"
     ]
    }
   ],
   "source": [
    "# 比方說今天老闆想要做一個社群聊天軟體，\n",
    "\n",
    "class Boss:\n",
    "    \n",
    "    def __init__(self):\n",
    "        print(\"I want to make social chat app but there are lots of work to do..\")\n",
    "        \n",
    "    def askPM(self):\n",
    "        pm = PM()\n",
    "        pm.arrange()\n",
    "        print(\"--done--\")\n",
    "        \n",
    "class PM:\n",
    "    \n",
    "    def __init__(self):\n",
    "        print(\"ok.. I arrang.\")\n",
    "        \n",
    "    def arrange(self):\n",
    "        pass\n",
    "\n",
    "    \n",
    "\n",
    "boss = Boss()\n",
    "boss.askPM()"
   ]
  },
  {
   "cell_type": "markdown",
   "metadata": {},
   "source": [
    "上面省略一些實作拉，主要想表達就是對於老闆而言原本要自己動手做很多事情的，但是他有個PM這個facade，PM幫他處理了下面的事情，當然pm一定也會把事情繼續往下交代，做好分工ＸＤ\n",
    "\n",
    "那麼在這個章節書中有另外提到**Law of Demeter**名詞意外有點多..，不過呢還是讓我們來了解一下這個術語是什麼東東！ Law of Demeter也被稱為principle of least knowledge，說穿了就是一種封裝的原則\n",
    "\n",
    " - 每個單元對於其他單元的認知應該是要極少的，除了跟自己有關的單元\n",
    " - 每個單元只能和他的朋友對話，不要跟陌生人對話\n",
    " - 只跟你的親密朋友交談\n",
    " \n",
    "其實上面聽起來意思都很像啊.. 我想直接以程式碼來做個例子還比較容易懂咧..\n",
    "\n",
    "基本上已物件導向來看，比如任何obejct O的函式，呼叫時只要符合下面幾點\n",
    "\n",
    " - O 本身的函式\n",
    " - O 函式parameter的函式\n",
    " - O 函式裡面所建立的物件的函式\n",
    " - O 任何子元件（應該僅限於一層）的函式\n",
    " - O 可以存取的全域變數的函式"
   ]
  },
  {
   "cell_type": "code",
   "execution_count": 12,
   "metadata": {},
   "outputs": [],
   "source": [
    "helperObj = None\n",
    "\n",
    "class A:\n",
    "    \n",
    "    def __init__(self, b):\n",
    "        self.b = b\n",
    "        \n",
    "    def foo(self, c):\n",
    "        self.bark() # 第一個rule\n",
    "        \n",
    "        c.bark() # 第二個rule\n",
    "        \n",
    "        # d = c.getSomething()\n",
    "        # d.intro() # 第三個rule 的anti pattern\n",
    "        # 要調整成\n",
    "        d = self.getSomething(c)\n",
    "        d.intro()\n",
    "        \n",
    "        self.b.bark() # 第四個rule\n",
    "        \n",
    "        helperObj.bark() # 第五個rule\n",
    "        \n",
    "    def bark(self):\n",
    "        pass\n",
    "    \n",
    "    def getSomething(self, obj):\n",
    "        return obj.getSomething()"
   ]
  },
  {
   "cell_type": "markdown",
   "metadata": {},
   "source": [
    "其實上面那幾點看起來，就是避免盡量在實作上變成多層的呼叫，最多就是一層，為了達到`Dont't talk to stranger` 想想你每次呼叫都回傳不同物件，這樣最初的物件跟他的關係想必是越遠，同時也造成了程式碼彼此間耦合度太高，若是多了一層包裝抽象化，就可以做到抽換的動作！ "
   ]
  }
 ],
 "metadata": {
  "kernelspec": {
   "display_name": "Python 3",
   "language": "python",
   "name": "python3"
  },
  "language_info": {
   "codemirror_mode": {
    "name": "ipython",
    "version": 3
   },
   "file_extension": ".py",
   "mimetype": "text/x-python",
   "name": "python",
   "nbconvert_exporter": "python",
   "pygments_lexer": "ipython3",
   "version": "3.6.4"
  }
 },
 "nbformat": 4,
 "nbformat_minor": 2
}
