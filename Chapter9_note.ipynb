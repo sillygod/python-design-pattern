{
 "cells": [
  {
   "cell_type": "markdown",
   "metadata": {},
   "source": [
    "Chapter 9 Compound patterns\n",
    "\n"
   ]
  },
  {
   "cell_type": "markdown",
   "metadata": {},
   "source": [
    "Compound pattern就是組合各種patterns的意思，在寫程式時，你的應用例子，絕對不可能那麼美好應用一個pattern就可以完成，或多或少都會同時結合兩個pattern以上，其實這樣的例子，比較常被拿來討論的就是Model View Controller pattern，但是其實我覺得ＭＶＣ說法很多種，每個人都有自己的ＭＶＣ，顆顆，但是核心基本上就是\n",
    "\n",
    " - model 代表data及一些相關的操作\n",
    " - view 渲染操作介面，他不會有其餘商業邏輯，基本上就是拿到資料作轉換到介面\n",
    " - controller 處理接收到的資料，傳送到相對的地方\n",
    " \n",
    "這麼做主要目的是要區分視覺呈現的邏輯和資料處理的邏輯。\n",
    "\n",
    "以現今的web framework絕大多數都是用ＭＶＣ架構，但是每個或多或少都有各自的差異。"
   ]
  },
  {
   "cell_type": "code",
   "execution_count": 1,
   "metadata": {},
   "outputs": [],
   "source": [
    "class Model:\n",
    "    def logic(self):\n",
    "        data = 'songla'\n",
    "        print('Model: Crunching data as per business logic')\n",
    "        return data\n",
    "    \n",
    "class View:\n",
    "    def update(self, data):\n",
    "        print('View: updating the view with the result')\n",
    "        \n",
    "class Controller:\n",
    "    def __init__(self):\n",
    "        self.model = Model()\n",
    "        self.view = View()\n",
    "        \n",
    "    def interface(self):\n",
    "        print(\"Controller: Relayed the Client asks\")\n",
    "        data = self.model.logic()\n",
    "        self.view.update(data)\n",
    "    \n",
    "    "
   ]
  },
  {
   "cell_type": "code",
   "execution_count": null,
   "metadata": {},
   "outputs": [],
   "source": []
  }
 ],
 "metadata": {
  "kernelspec": {
   "display_name": "Python 3",
   "language": "python",
   "name": "python3"
  },
  "language_info": {
   "codemirror_mode": {
    "name": "ipython",
    "version": 3
   },
   "file_extension": ".py",
   "mimetype": "text/x-python",
   "name": "python",
   "nbconvert_exporter": "python",
   "pygments_lexer": "ipython3",
   "version": "3.6.5"
  }
 },
 "nbformat": 4,
 "nbformat_minor": 2
}
