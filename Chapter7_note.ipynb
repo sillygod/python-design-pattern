{
 "cells": [
  {
   "cell_type": "markdown",
   "metadata": {},
   "source": [
    "# Chapter 7 The Command Pattern\n",
    "\n"
   ]
  },
  {
   "cell_type": "markdown",
   "metadata": {},
   "source": [
    "**Command Pattern**也是屬於**Behavioral Pattern**主要是針對於物件相關的操作，把方法明確定義出來，使用命令的方式來操作。其中實作上會有的組件大致上有\n",
    "\n",
    " - Command\n",
    "\n",
    "觸發Receiver物件的方法\n",
    "\n",
    " - Receiver\n",
    "\n",
    "接受命令，並執行動作\n",
    "\n",
    " - Invoker\n",
    " \n",
    "知道如何執行相對應的command\n",
    "\n",
    " - Client\n",
    " \n",
    "負責建立Command物件\n",
    "\n",
    "**Command Pattern**主要用途是，將request包裝成物件，如此對於request可朔性就會變高！ 比如request排入queue中。書中使用一件安裝程式來當例子。\n",
    " "
   ]
  },
  {
   "cell_type": "code",
   "execution_count": 3,
   "metadata": {},
   "outputs": [
    {
     "name": "stdout",
     "output_type": "stream",
     "text": [
      "Copying binaries -- python3.5.gzip to /usr/bin\n",
      "No operation\n"
     ]
    }
   ],
   "source": [
    "class Wizard:\n",
    "    \n",
    "    def __init__(self, src, root_dir):\n",
    "        self.choices = []\n",
    "        self.root_dir = root_dir\n",
    "        self.src = src\n",
    "        \n",
    "    def preferences(self, command):\n",
    "        self.choices.append(command)\n",
    "        \n",
    "    def execute(self):\n",
    "        for choice in self.choices:\n",
    "            if list(choice.values())[0]:\n",
    "                print(f\"Copying binaries -- {self.src} to {self.root_dir}\")\n",
    "            else:\n",
    "                print(\"No operation\")\n",
    "                \n",
    "wizard = Wizard(\"python3.5.gzip\", \"/usr/bin\")\n",
    "wizard.preferences({\"Python\": True})\n",
    "wizard.preferences({\"Java\": False})\n",
    "wizard.execute()"
   ]
  },
  {
   "cell_type": "markdown",
   "metadata": {},
   "source": [
    "上面是個簡單的示範，將command排入queue，並依序執行相對應的動作。 繼續讀後發現，顯然關於**Command pattern**上面幾個物件應該是作者自己分的，我後來研究並沒有規定這個多東西，但是他的核心主軸有表達到。"
   ]
  },
  {
   "cell_type": "code",
   "execution_count": 4,
   "metadata": {},
   "outputs": [
    {
     "name": "stdout",
     "output_type": "stream",
     "text": [
      "Receiver Action\n"
     ]
    }
   ],
   "source": [
    "import abc\n",
    "\n",
    "class Command(metaclass=abc.ABCMeta):\n",
    "    \n",
    "    def __init__(self, recv):\n",
    "        self.recv = recv\n",
    "        \n",
    "    def execute(self):\n",
    "        pass\n",
    "    \n",
    "\n",
    "class ConcreteCommand(Command):\n",
    "    \n",
    "    def __init__(self, recv):\n",
    "        self.recv = recv\n",
    "        \n",
    "    def execute(self):\n",
    "        self.recv.action()\n",
    "        \n",
    "class Receiver:\n",
    "    \n",
    "    def action(self):\n",
    "        print(\"Receiver Action\")\n",
    "        \n",
    "class Invoker:\n",
    "    \n",
    "    def command(self, cmd):\n",
    "        self.cmd = cmd\n",
    "        \n",
    "    def execute(self):\n",
    "        self.cmd.execute()\n",
    "        \n",
    "recv = Receiver()\n",
    "cmd = ConcreteCommand(recv)\n",
    "invoker = Invoker()\n",
    "invoker.command(cmd)\n",
    "invoker.execute()"
   ]
  },
  {
   "cell_type": "markdown",
   "metadata": {},
   "source": [
    "上面是一個抽象化表達，跟第一個例子比，她多了用Receiver將命令的執行做了一層包裝，好處是這樣以後要替換多了彈性。接著書中舉個現實世界的例子來講解**Command Pattern**，股票交易中心"
   ]
  },
  {
   "cell_type": "code",
   "execution_count": 15,
   "metadata": {},
   "outputs": [
    {
     "name": "stdout",
     "output_type": "stream",
     "text": [
      "you will buy stocks\n",
      "you will sell stocks\n"
     ]
    }
   ],
   "source": [
    "class Order(metaclass=abc.ABCMeta):\n",
    "    \n",
    "    @abc.abstractmethod\n",
    "    def execute(self):\n",
    "        pass\n",
    "    \n",
    "class BuyStockOrder(Order):\n",
    "    \n",
    "    \"\"\"commander\"\"\"\n",
    "    \n",
    "    def __init__(self, stock):\n",
    "        self.stock = stock\n",
    "        \n",
    "    def execute(self):\n",
    "        self.stock.buy()\n",
    "        \n",
    "class SellStockOrder(Order):\n",
    "    \n",
    "    \"\"\"commander\"\"\"\n",
    "    \n",
    "    def __init__(self, stock):\n",
    "        self.stock = stock\n",
    "        \n",
    "    def execute(self):\n",
    "        self.stock.sell()\n",
    "        \n",
    "\n",
    "class StockTrade:\n",
    "    \n",
    "    \"\"\"Receiver \"\"\"\n",
    "    \n",
    "    def buy(self):\n",
    "        print(\"you will buy stocks\")\n",
    "        \n",
    "    def sell(self):\n",
    "        print(\"you will sell stocks\")\n",
    "        \n",
    "        \n",
    "class Agent:\n",
    "    \n",
    "    \"\"\"Invoker\"\"\"\n",
    "    \n",
    "    def __init__(self):\n",
    "        self._orderQueue = []\n",
    "        \n",
    "    def placeOrder(self, order):\n",
    "        self._orderQueue.append(order)\n",
    "        order.execute()\n",
    "        \n",
    "    \n",
    "stock = StockTrade()\n",
    "buyStock = BuyStockOrder(stock)\n",
    "sellStock = SellStockOrder(stock)\n",
    "agent = Agent()\n",
    "agent.placeOrder(buyStock)\n",
    "agent.placeOrder(sellStock)"
   ]
  },
  {
   "cell_type": "markdown",
   "metadata": {},
   "source": [
    "這裡的invoker(class Agent)其實可以稍微修改，讓大家知道他將command放入queue中，並拿出來做事這樣，要不然書中這樣感覺那個queue根本多餘..."
   ]
  },
  {
   "cell_type": "code",
   "execution_count": 17,
   "metadata": {},
   "outputs": [
    {
     "name": "stdout",
     "output_type": "stream",
     "text": [
      "you will sell stocks\n",
      "content is [<__main__.BuyStockOrder object at 0x10ce0f940>]\n",
      "you will buy stocks\n",
      "content is []\n"
     ]
    }
   ],
   "source": [
    "import threading\n",
    "import time\n",
    "\n",
    "class Agent:\n",
    "    \n",
    "    def __init__(self):\n",
    "        self._orderQueue = []\n",
    "        self._lock = threading.Condition()\n",
    "        \n",
    "        t = threading.Thread(target=self.schedule_run)\n",
    "        t.start()\n",
    "        \n",
    "    def placeOrder(self, order):\n",
    "        with self._lock:\n",
    "            self._orderQueue.append(order)\n",
    "            self._lock.notify()\n",
    "        \n",
    "    def schedule_run(self):\n",
    "        \n",
    "        while True:\n",
    "            self._lock.acquire()\n",
    "        \n",
    "            if len(self._orderQueue) == 0:\n",
    "                self._lock.wait()\n",
    "            \n",
    "            order = self._orderQueue.pop() \n",
    "            order.execute()\n",
    "        \n",
    "            self._lock.release()\n",
    "            time.sleep(0.5)\n",
    "            print(f'content is {self._orderQueue}')\n",
    "        \n",
    "\n",
    "if __name__ == \"__main__\":\n",
    "    stock = StockTrade()\n",
    "    buyStock = BuyStockOrder(stock)\n",
    "    sellStock = SellStockOrder(stock)\n",
    "    agent = Agent()\n",
    "    agent.placeOrder(buyStock)\n",
    "    agent.placeOrder(sellStock)"
   ]
  },
  {
   "cell_type": "markdown",
   "metadata": {},
   "source": [
    "上面是個稍微示範一下放入queue中處理的程式碼，另外關於前面不是有講到其實很多人的**Command Pattern**定義並沒有那麼多嗎？ 在書中章節的最後確實也有人提問，作者也說確實可以不用這麼多定義"
   ]
  },
  {
   "cell_type": "code",
   "execution_count": null,
   "metadata": {},
   "outputs": [],
   "source": []
  }
 ],
 "metadata": {
  "kernelspec": {
   "display_name": "Python 3",
   "language": "python",
   "name": "python3"
  },
  "language_info": {
   "codemirror_mode": {
    "name": "ipython",
    "version": 3
   },
   "file_extension": ".py",
   "mimetype": "text/x-python",
   "name": "python",
   "nbconvert_exporter": "python",
   "pygments_lexer": "ipython3",
   "version": "3.6.5"
  }
 },
 "nbformat": 4,
 "nbformat_minor": 2
}
