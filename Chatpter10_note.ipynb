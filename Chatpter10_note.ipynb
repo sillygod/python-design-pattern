{
 "cells": [
  {
   "cell_type": "markdown",
   "metadata": {},
   "source": [
    "# Chapter 10 State design pattern\n",
    "\n"
   ]
  },
  {
   "cell_type": "markdown",
   "metadata": {},
   "source": [
    "state design patter也是屬於behaviroal patterns，根據物件狀態的改變做出不同的行為。這個pattern通常會有的組件\n",
    "\n",
    " - state\n",
    " - context\n",
    " \n",
    "### State\n",
    "\n",
    "定義一個抽象介面包含物件的行為\n",
    "\n",
    "### Context\n",
    "\n",
    "負責掌控 concrete state 的操作\n",
    "\n"
   ]
  },
  {
   "cell_type": "code",
   "execution_count": 6,
   "metadata": {},
   "outputs": [
    {
     "name": "stdout",
     "output_type": "stream",
     "text": [
      "Concrete state A\n"
     ]
    }
   ],
   "source": [
    "import abc\n",
    "\n",
    "class State(metaclass=abc.ABCMeta):\n",
    "    \n",
    "    @abc.abstractmethod\n",
    "    def Handle(self):\n",
    "        pass\n",
    "    \n",
    "    \n",
    "class ConcreStateB(State):\n",
    "    \n",
    "    def Handle(self):\n",
    "        print(\"Concrete state B\")\n",
    "        \n",
    "        \n",
    "class ConcreStateA(State):\n",
    "    \n",
    "    def Handle(self):\n",
    "        print(\"Concrete state A\")\n",
    "    \n",
    "    \n",
    "class Context(State):\n",
    "    \n",
    "    def __init__(self):\n",
    "        self.state = None\n",
    "        \n",
    "    def getState(self):\n",
    "        return self.state\n",
    "    \n",
    "    def setState(self, state):\n",
    "        self.state = state\n",
    "        \n",
    "    def Handle(self):\n",
    "        self.state.Handle()\n",
    "        \n",
    "\n",
    "context = Context()\n",
    "stateA = ConcreStateA()\n",
    "stateB = ConcreStateB()\n",
    "\n",
    "context.setState(stateA)\n",
    "context.Handle()\n",
    "    "
   ]
  },
  {
   "cell_type": "markdown",
   "metadata": {},
   "source": [
    "個人覺得Context應該可以不用繼承state interface，"
   ]
  },
  {
   "cell_type": "code",
   "execution_count": 9,
   "metadata": {},
   "outputs": [
    {
     "name": "stdout",
     "output_type": "stream",
     "text": [
      "TV switching off..\n"
     ]
    }
   ],
   "source": [
    "import abc\n",
    "\n",
    "class State(metaclass=abc.ABCMeta):\n",
    "    \n",
    "    @abc.abstractmethod\n",
    "    def doThis(self):\n",
    "        pass\n",
    "    \n",
    "\n",
    "class StartState(State):\n",
    "    \n",
    "    def doThis(self):\n",
    "        print(\"TV switching on..\")\n",
    "        \n",
    "\n",
    "class StopState(State):\n",
    "    \n",
    "    def doThis(self):\n",
    "        print(\"TV switching off..\")\n",
    "        \n",
    "\n",
    "class TVContext(State):\n",
    "    \n",
    "    def __init__(self):\n",
    "        self.state = None\n",
    "        \n",
    "    def getState(self):\n",
    "        return self.state\n",
    "    \n",
    "    def setState(self, state):\n",
    "        self.state = state\n",
    "        \n",
    "    def doThis(self):\n",
    "        self.state.doThis()\n",
    "        \n",
    "context = TVContext()\n",
    "context.getState()\n",
    "\n",
    "start = StartState()\n",
    "stop = StopState()\n",
    "\n",
    "context.setState(stop)\n",
    "context.doThis()"
   ]
  },
  {
   "cell_type": "code",
   "execution_count": 11,
   "metadata": {},
   "outputs": [
    {
     "name": "stdout",
     "output_type": "stream",
     "text": [
      "current: off => switched to new state on\n",
      "current: on => switched to new state off\n",
      "current: off => switching to suspend not possible\n",
      "current: off => switching to hibernate not possible\n",
      "current: off => switched to new state on\n",
      "current: on => switched to new state off\n"
     ]
    }
   ],
   "source": [
    "class ComputerState:\n",
    "    \n",
    "    name = \"state\"\n",
    "    allowed = []\n",
    "    \n",
    "    def switch(self, state):\n",
    "        if state.name in self.allowed:\n",
    "            print(f'current: {self} => switched to new state {state.name}')\n",
    "            self.__class__ = state # 可以替換整個class attrs\n",
    "        else:\n",
    "            print(f'current: {self} => switching to {state.name} not possible')\n",
    "            \n",
    "    def __str__(self):\n",
    "        return self.name\n",
    "    \n",
    "    \n",
    "class Off(ComputerState):\n",
    "    \n",
    "    name = \"off\"\n",
    "    allowed = ['on']\n",
    "    \n",
    "\n",
    "class On(ComputerState):\n",
    "\n",
    "    name = \"on\"\n",
    "    allowed = ['off', 'suspend', 'hibernate']\n",
    "    \n",
    "    \n",
    "class Suspend(ComputerState):\n",
    "    \n",
    "    name = 'suspend'\n",
    "    allowed = ['on']\n",
    "    \n",
    "\n",
    "class Hibernate(ComputerState):\n",
    "    \n",
    "    name = 'hibernate'\n",
    "    allowed = ['on']\n",
    "    \n",
    "    \n",
    "class Computer:\n",
    "    \n",
    "    def __init__(self, model='HP'):\n",
    "        self.model = model\n",
    "        self.state = Off()\n",
    "        \n",
    "    def change(self, state):\n",
    "        self.state.switch(state)\n",
    "        \n",
    "    \n",
    "comp = Computer()\n",
    "comp.change(On)\n",
    "comp.change(Off)\n",
    "\n",
    "comp.change(Suspend)\n",
    "comp.change(Hibernate)\n",
    "comp.change(On)\n",
    "comp.change(Off)\n",
    "    \n",
    "    "
   ]
  },
  {
   "cell_type": "markdown",
   "metadata": {},
   "source": [
    "State pattern 基本上就是 finite state machine，目前覺得這樣的寫法(一個state就一個class)，可能會稍微讓code變多，但是至少我覺得邏輯切得滿清晰的。"
   ]
  }
 ],
 "metadata": {
  "kernelspec": {
   "display_name": "Python 3",
   "language": "python",
   "name": "python3"
  },
  "language_info": {
   "codemirror_mode": {
    "name": "ipython",
    "version": 3
   },
   "file_extension": ".py",
   "mimetype": "text/x-python",
   "name": "python",
   "nbconvert_exporter": "python",
   "pygments_lexer": "ipython3",
   "version": "3.6.5"
  }
 },
 "nbformat": 4,
 "nbformat_minor": 2
}
