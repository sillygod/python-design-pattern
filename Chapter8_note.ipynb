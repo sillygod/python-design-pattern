{
 "cells": [
  {
   "cell_type": "markdown",
   "metadata": {},
   "source": [
    "# Chapter 8 The Template Method Pattern\n"
   ]
  },
  {
   "cell_type": "markdown",
   "metadata": {},
   "source": [
    "template method pattern也是屬於behavioral pattern，那何謂template method pattern，其實從名字上面分析，就是樣板方法模式之類的東西，所以就是說你今天把一個行為去分析他要做了哪些動作才能完成，把各階段拆分出來。\n",
    "\n",
    "那麼今天你要分析的行為只有一個那麼這個pattern就無法執行，因為這個是要去分析兩個行為定義出common steps！\n"
   ]
  },
  {
   "cell_type": "code",
   "execution_count": 7,
   "metadata": {},
   "outputs": [
    {
     "name": "stdout",
     "output_type": "stream",
     "text": [
      "collecting swift source code\n",
      "Compiling swift code to llvm bytecode\n",
      "program running on runtime environment\n"
     ]
    }
   ],
   "source": [
    "import abc\n",
    "from abc import ABCMeta\n",
    "\n",
    "class Compiler(metaclass=ABCMeta):\n",
    "    @abc.abstractmethod\n",
    "    def collectSource(self):\n",
    "        pass\n",
    "    \n",
    "    @abc.abstractmethod\n",
    "    def compileToObject(self):\n",
    "        pass\n",
    "    \n",
    "    @abc.abstractmethod\n",
    "    def run(self):\n",
    "        pass\n",
    "    \n",
    "    def compileAndRun(self):\n",
    "        self.collectSource()\n",
    "        self.compileToObject()\n",
    "        self.run()\n",
    "        \n",
    "class IOSCompiler(Compiler):\n",
    "    \n",
    "    def collectSource(self):\n",
    "        print(\"collecting swift source code\")\n",
    "        \n",
    "    def compileToObject(self):\n",
    "        print(\"Compiling swift code to llvm bytecode\")\n",
    "        \n",
    "    def run(self):\n",
    "        print(\"program running on runtime environment\")\n",
    "\n",
    "        \n",
    "ios = IOSCompiler()\n",
    "ios.compileAndRun()\n"
   ]
  },
  {
   "cell_type": "markdown",
   "metadata": {},
   "source": [
    "上面例子就是一種template method pattern，它定義出身為compiler需要哪些步驟，然後最後template method(compileAndRun)，再去統合流程，在工作上，比方說你要整合不同金流，那你大概就會使用到這種design pattern了，因為他也是符合分析不同行為，定義出common steps的例子。\n",
    "\n",
    "那麼對於這種design pattern，我覺得對於程式的流程會導致有點跳來跳去，在追查bug時，可能會有點小繞，所以通常這方面會要有文件說明！"
   ]
  },
  {
   "cell_type": "code",
   "execution_count": null,
   "metadata": {},
   "outputs": [],
   "source": []
  }
 ],
 "metadata": {
  "kernelspec": {
   "display_name": "Python 3",
   "language": "python",
   "name": "python3"
  },
  "language_info": {
   "codemirror_mode": {
    "name": "ipython",
    "version": 3
   },
   "file_extension": ".py",
   "mimetype": "text/x-python",
   "name": "python",
   "nbconvert_exporter": "python",
   "pygments_lexer": "ipython3",
   "version": "3.6.5"
  }
 },
 "nbformat": 4,
 "nbformat_minor": 2
}
