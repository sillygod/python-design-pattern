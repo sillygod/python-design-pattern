{
 "cells": [
  {
   "cell_type": "markdown",
   "metadata": {},
   "source": [
    "# 第三章 Factory Pattern\n",
    "\n",
    "從文字上面解釋，就是想成工廠產生不同物件那樣，我今天只要根據不同參數就可以產生不同物件！ 那麼書中提到Factory pattern的三種變形\n",
    "\n",
    " - Simple Factory Pattern\n",
    " - Factory method Pattern\n",
    " - Abstract Factory Pattern\n",
    " \n",
    "其實第一個跟第二個感覺是沒什麼差別的...精髓都一樣是經由參數來生成不同物件！ 下面就是一個簡單的示範藉由參數來建立不同物件！"
   ]
  },
  {
   "cell_type": "code",
   "execution_count": 12,
   "metadata": {},
   "outputs": [
    {
     "name": "stdout",
     "output_type": "stream",
     "text": [
      "I'm bug\n"
     ]
    }
   ],
   "source": [
    "from abc import ABCMeta, abstractmethod\n",
    "\n",
    "class Insect(metaclass=ABCMeta):\n",
    "    \n",
    "    @abstractmethod\n",
    "    def intro(self):\n",
    "        raise NotImplementedError\n",
    "    \n",
    "class Bug(Insect):\n",
    "    \n",
    "    def intro(self):\n",
    "        print(\"I'm bug\")\n",
    "        \n",
    "def createInsect(name):\n",
    "    cls = globals()[name]\n",
    "    return cls()\n",
    "    \n",
    "bug = createInsect('Bug')\n",
    "bug.intro()"
   ]
  },
  {
   "cell_type": "markdown",
   "metadata": {},
   "source": [
    "至於**Abstract Factory Pattern**，書中舉的例子老實講，我並沒有特別的感受，倒不如說我只覺得不就是定義共同interface而已嗎？ 以下來看看書中例子"
   ]
  },
  {
   "cell_type": "code",
   "execution_count": 4,
   "metadata": {},
   "outputs": [
    {
     "name": "stdout",
     "output_type": "stream",
     "text": [
      "Prepare  DeluxVeggiePizza\n",
      "ChickenPizza  is served with Chicken on  DeluxVeggiePizza\n",
      "Prepare  MexicanVegPizza\n",
      "HamPizza  is served with Ham on  MexicanVegPizza\n"
     ]
    }
   ],
   "source": [
    "\n",
    "class PizzaFactory(metaclass=ABCMeta):\n",
    "    \n",
    "    @abstractmethod\n",
    "    def createVegPizza(self):\n",
    "        pass\n",
    "    \n",
    "    @abstractmethod\n",
    "    def createNonVegPizza(self):\n",
    "        pass\n",
    "    \n",
    "class IndianPizzaFactory(PizzaFactory):\n",
    "    \n",
    "    def createVegPizza(self):\n",
    "        return DeluxVeggiePizza()\n",
    "    \n",
    "    def createNonVegPizza(self):\n",
    "        return ChickenPizza()\n",
    "    \n",
    "class USPizzaFactory(PizzaFactory):\n",
    "    \n",
    "    def createVegPizza(self):\n",
    "        return MexicanVegPizza()\n",
    "    \n",
    "    def createNonVegPizza(self):\n",
    "        return HamPizza()\n",
    "\n",
    "# 這邊定義了pizza工廠應該要有的interface就是做素跟非素兩種pizza\n",
    "\n",
    "class VegPizza(metaclass=ABCMeta):\n",
    "    \n",
    "    @abstractmethod\n",
    "    def prepare(self, VegPizza):\n",
    "        pass\n",
    "\n",
    "    \n",
    "class NonVegPizza(metaclass=ABCMeta):\n",
    "    @abstractmethod\n",
    "    def serve(self, VegPizza):\n",
    "        pass\n",
    "    \n",
    "    \n",
    "class DeluxVeggiePizza(VegPizza):\n",
    "    def prepare(self):\n",
    "        print(\"Prepare \", type(self).__name__)\n",
    "        \n",
    "class ChickenPizza(NonVegPizza):\n",
    "    def serve(self, VegPizza):\n",
    "        print(type(self).__name__, \" is served with Chicken on \", type(VegPizza).__name__)\n",
    "        \n",
    "class MexicanVegPizza(VegPizza):\n",
    "    def prepare(self):\n",
    "        print(\"Prepare \", type(self).__name__)\n",
    "        \n",
    "class HamPizza(NonVegPizza):\n",
    "    def serve(self, VegPizza):\n",
    "        print(type(self).__name__, \" is served with Ham on \", type(VegPizza).__name__)\n",
    "\n",
    "class PizzaStore:\n",
    "    \n",
    "    def __init__(self):\n",
    "        pass\n",
    "   \n",
    "    def makePizzas(self):\n",
    "        for factory in [IndianPizzaFactory(), USPizzaFactory()]:\n",
    "            self.NonVegPizza = factory.createNonVegPizza()\n",
    "            self.VegPizza = factory.createVegPizza()\n",
    "            self.VegPizza.prepare()\n",
    "            self.NonVegPizza.serve(self.VegPizza)\n",
    "            \n",
    "pizza = PizzaStore()\n",
    "pizza.makePizzas()"
   ]
  },
  {
   "cell_type": "markdown",
   "metadata": {},
   "source": [
    "上面就是書中舉的例子，老實講就是定義interface，去繼承實作他而已.. 這章節感覺比較沒什麼需要特別記錄的。"
   ]
  }
 ],
 "metadata": {
  "kernelspec": {
   "display_name": "Python 3",
   "language": "python",
   "name": "python3"
  },
  "language_info": {
   "codemirror_mode": {
    "name": "ipython",
    "version": 3
   },
   "file_extension": ".py",
   "mimetype": "text/x-python",
   "name": "python",
   "nbconvert_exporter": "python",
   "pygments_lexer": "ipython3",
   "version": "3.6.4"
  }
 },
 "nbformat": 4,
 "nbformat_minor": 2
}
