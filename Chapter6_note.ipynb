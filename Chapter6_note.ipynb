{
 "cells": [
  {
   "cell_type": "markdown",
   "metadata": {},
   "source": [
    "# Chapter6 The Observer Pattern\n",
    "\n",
    "**Observer Pattern**是屬於**Behavioral Pattern**，Behaviorial Pattern著重於物件本身應該負責什麼責任，其中Observer Pattern算是裡面最基本的pattern之一。\n",
    "\n",
    "那麼Observer Pattern是什麼呢？ 從字面上來看上角色會分為觀察者被觀察者，那麼這樣可以幹嘛？ 觀察者看到所觀看的對象有所變動的話，想必會做點什麼反應吧～ 舉個現實中的例子，比如寄信服務好了，他會觀察使用者本身是否狀態有被改，然後再做寄信的動作！\n",
    "\n",
    "在Observer Pattern中呢，會有Subject跟Observer這兩個角色，以上面的例子，Subject就是使用者，他就是我們要觀察的主題，email service就是Observer，他觀察了使用者的狀態使用改變並採取相對應的行為。\n",
    "\n",
    "所以總結來看**Observer Pattern** 他做了以下的事情\n",
    "\n",
    " - 定義**one-to-many**關係，當有改變才會通知相依的物件\n",
    " - 包裝了Subject的核心組件\n",
    " \n",
    "下面是書中範例code"
   ]
  },
  {
   "cell_type": "code",
   "execution_count": 1,
   "metadata": {},
   "outputs": [
    {
     "name": "stdout",
     "output_type": "stream",
     "text": [
      "Observer1, got ('notification',) from <__main__.Subject object at 0x1055eea90>\n",
      "Observer2, got ('notification',) from <__main__.Subject object at 0x1055eea90>\n"
     ]
    }
   ],
   "source": [
    "class Subject:\n",
    "    \n",
    "    def __init__(self):\n",
    "        self._observers = []\n",
    "        \n",
    "    def register(self, observer):\n",
    "        self._observers.append(observer)\n",
    "        \n",
    "    def notifyAll(self, *args, **kwargs):\n",
    "        for observer in self._observers:\n",
    "            observer.notify(self, *args, **kwargs)\n",
    "            \n",
    "\n",
    "class Observer1:\n",
    "    \n",
    "    def __init__(self, subject):\n",
    "        subject.register(self)\n",
    "        \n",
    "    def notify(self, subject, *args, **kwargs):\n",
    "        print(f'{type(self).__name__}, got {args} from {subject}')\n",
    "        \n",
    "class Observer2:\n",
    "    \n",
    "    def __init__(self, subject):\n",
    "        subject.register(self)\n",
    "        \n",
    "    def notify(self, subject, *args, **kwargs):\n",
    "        print(f'{type(self).__name__}, got {args} from {subject}')\n",
    "        \n",
    "subject = Subject()\n",
    "o1 = Observer1(subject)\n",
    "o2 = Observer2(subject)\n",
    "\n",
    "subject.notifyAll('notification')\n"
   ]
  },
  {
   "cell_type": "markdown",
   "metadata": {},
   "source": [
    "雖然書中有另外講個例子，但是其實就跟上面意思一樣... observer pattern 其中狀態改變的通知方式有分為兩種\n",
    "\n",
    " - pull model\n",
    " \n",
    "subject 通知狀態改變，然後observer pattern來主動去抓取資料\n",
    " \n",
    " - push model\n",
    " \n",
    "subject 主動推送資料到 client\n",
    "\n"
   ]
  },
  {
   "cell_type": "code",
   "execution_count": null,
   "metadata": {},
   "outputs": [],
   "source": []
  }
 ],
 "metadata": {
  "kernelspec": {
   "display_name": "Python 3",
   "language": "python",
   "name": "python3"
  },
  "language_info": {
   "codemirror_mode": {
    "name": "ipython",
    "version": 3
   },
   "file_extension": ".py",
   "mimetype": "text/x-python",
   "name": "python",
   "nbconvert_exporter": "python",
   "pygments_lexer": "ipython3",
   "version": "3.6.4"
  }
 },
 "nbformat": 4,
 "nbformat_minor": 2
}
